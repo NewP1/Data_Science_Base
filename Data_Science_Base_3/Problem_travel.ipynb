{
 "cells": [
  {
   "cell_type": "code",
   "execution_count": 1,
   "id": "118f6ccf",
   "metadata": {},
   "outputs": [],
   "source": [
    "import pandas as pd"
   ]
  },
  {
   "cell_type": "code",
   "execution_count": 11,
   "id": "ebf4c7a5",
   "metadata": {},
   "outputs": [
    {
     "data": {
      "text/html": [
       "<div>\n",
       "<style scoped>\n",
       "    .dataframe tbody tr th:only-of-type {\n",
       "        vertical-align: middle;\n",
       "    }\n",
       "\n",
       "    .dataframe tbody tr th {\n",
       "        vertical-align: top;\n",
       "    }\n",
       "\n",
       "    .dataframe thead th {\n",
       "        text-align: right;\n",
       "    }\n",
       "</style>\n",
       "<table border=\"1\" class=\"dataframe\">\n",
       "  <thead>\n",
       "    <tr style=\"text-align: right;\">\n",
       "      <th></th>\n",
       "      <th>City / Urban area</th>\n",
       "      <th>Country</th>\n",
       "      <th>Population</th>\n",
       "      <th>Land area (in sqKm)</th>\n",
       "    </tr>\n",
       "  </thead>\n",
       "  <tbody>\n",
       "    <tr>\n",
       "      <th>0</th>\n",
       "      <td>Buenos Aires</td>\n",
       "      <td>Argentina</td>\n",
       "      <td>11200000</td>\n",
       "      <td>2266</td>\n",
       "    </tr>\n",
       "    <tr>\n",
       "      <th>1</th>\n",
       "      <td>Melbourne</td>\n",
       "      <td>Australia</td>\n",
       "      <td>3162000</td>\n",
       "      <td>2080</td>\n",
       "    </tr>\n",
       "    <tr>\n",
       "      <th>2</th>\n",
       "      <td>Sydney</td>\n",
       "      <td>Australia</td>\n",
       "      <td>3502000</td>\n",
       "      <td>1687</td>\n",
       "    </tr>\n",
       "    <tr>\n",
       "      <th>3</th>\n",
       "      <td>Brisbane</td>\n",
       "      <td>Australia</td>\n",
       "      <td>1508000</td>\n",
       "      <td>1603</td>\n",
       "    </tr>\n",
       "    <tr>\n",
       "      <th>4</th>\n",
       "      <td>Perth</td>\n",
       "      <td>Australia</td>\n",
       "      <td>1177000</td>\n",
       "      <td>964</td>\n",
       "    </tr>\n",
       "    <tr>\n",
       "      <th>...</th>\n",
       "      <td>...</td>\n",
       "      <td>...</td>\n",
       "      <td>...</td>\n",
       "      <td>...</td>\n",
       "    </tr>\n",
       "    <tr>\n",
       "      <th>245</th>\n",
       "      <td>Canton</td>\n",
       "      <td>USA</td>\n",
       "      <td>267000</td>\n",
       "      <td>372</td>\n",
       "    </tr>\n",
       "    <tr>\n",
       "      <th>246</th>\n",
       "      <td>Spokane</td>\n",
       "      <td>USA</td>\n",
       "      <td>335000</td>\n",
       "      <td>371</td>\n",
       "    </tr>\n",
       "    <tr>\n",
       "      <th>247</th>\n",
       "      <td>Tashkent</td>\n",
       "      <td>Uzbekistan</td>\n",
       "      <td>2200000</td>\n",
       "      <td>531</td>\n",
       "    </tr>\n",
       "    <tr>\n",
       "      <th>248</th>\n",
       "      <td>Ho Chi Minh City</td>\n",
       "      <td>Vietnam</td>\n",
       "      <td>4900000</td>\n",
       "      <td>518</td>\n",
       "    </tr>\n",
       "    <tr>\n",
       "      <th>249</th>\n",
       "      <td>Harare</td>\n",
       "      <td>Zimbabwe</td>\n",
       "      <td>1750000</td>\n",
       "      <td>712</td>\n",
       "    </tr>\n",
       "  </tbody>\n",
       "</table>\n",
       "<p>249 rows × 4 columns</p>\n",
       "</div>"
      ],
      "text/plain": [
       "    City / Urban area     Country  Population  Land area (in sqKm)\n",
       "0        Buenos Aires   Argentina    11200000                 2266\n",
       "1           Melbourne   Australia     3162000                 2080\n",
       "2              Sydney   Australia     3502000                 1687\n",
       "3            Brisbane   Australia     1508000                 1603\n",
       "4               Perth   Australia     1177000                  964\n",
       "..                ...         ...         ...                  ...\n",
       "245            Canton         USA      267000                  372\n",
       "246           Spokane         USA      335000                  371\n",
       "247          Tashkent  Uzbekistan     2200000                  531\n",
       "248  Ho Chi Minh City     Vietnam     4900000                  518\n",
       "249            Harare    Zimbabwe     1750000                  712\n",
       "\n",
       "[249 rows x 4 columns]"
      ]
     },
     "execution_count": 11,
     "metadata": {},
     "output_type": "execute_result"
    }
   ],
   "source": [
    "trip_df = pd.read_csv('data/world_cities.csv', index_col=0)\n",
    "trip_df"
   ]
  },
  {
   "cell_type": "code",
   "execution_count": 4,
   "id": "3ae9cd00",
   "metadata": {},
   "outputs": [
    {
     "name": "stdout",
     "output_type": "stream",
     "text": [
      "<class 'pandas.core.frame.DataFrame'>\n",
      "RangeIndex: 249 entries, 0 to 248\n",
      "Data columns (total 5 columns):\n",
      " #   Column               Non-Null Count  Dtype \n",
      "---  ------               --------------  ----- \n",
      " 0   Unnamed: 0           249 non-null    int64 \n",
      " 1   City / Urban area    249 non-null    object\n",
      " 2   Country              249 non-null    object\n",
      " 3   Population           249 non-null    int64 \n",
      " 4   Land area (in sqKm)  249 non-null    int64 \n",
      "dtypes: int64(3), object(2)\n",
      "memory usage: 9.9+ KB\n"
     ]
    }
   ],
   "source": [
    "trip_df.info()"
   ]
  },
  {
   "cell_type": "code",
   "execution_count": 5,
   "id": "ba163d9a",
   "metadata": {},
   "outputs": [
    {
     "data": {
      "text/plain": [
       "Buenos Aires            1\n",
       "Bridgeport//Stamford    1\n",
       "San Diego               1\n",
       "Baltimore               1\n",
       "Cincinnati              1\n",
       "                       ..\n",
       "Osaka/Kobe/Kyoto        1\n",
       "Fukuoka                 1\n",
       "Sapporo                 1\n",
       "Kuwait                  1\n",
       "Harare                  1\n",
       "Name: City / Urban area, Length: 249, dtype: int64"
      ]
     },
     "execution_count": 5,
     "metadata": {},
     "output_type": "execute_result"
    }
   ],
   "source": [
    "trip_df['City / Urban area'].value_counts()"
   ]
  },
  {
   "cell_type": "code",
   "execution_count": 6,
   "id": "d336e5b3",
   "metadata": {},
   "outputs": [
    {
     "data": {
      "text/plain": [
       "USA            105\n",
       "France          15\n",
       "Brazil          10\n",
       "Canada           9\n",
       "Germany          8\n",
       "              ... \n",
       "Israel           1\n",
       "Kuwait           1\n",
       "Malaysia         1\n",
       "Netherlands      1\n",
       "Zimbabwe         1\n",
       "Name: Country, Length: 61, dtype: int64"
      ]
     },
     "execution_count": 6,
     "metadata": {},
     "output_type": "execute_result"
    }
   ],
   "source": [
    "trip_df['Country'].value_counts()"
   ]
  },
  {
   "cell_type": "code",
   "execution_count": 7,
   "id": "1034c4b9",
   "metadata": {},
   "outputs": [
    {
     "data": {
      "text/plain": [
       "count     249\n",
       "unique     61\n",
       "top       USA\n",
       "freq      105\n",
       "Name: Country, dtype: object"
      ]
     },
     "execution_count": 7,
     "metadata": {},
     "output_type": "execute_result"
    }
   ],
   "source": [
    "trip_df['Country'].describe()"
   ]
  },
  {
   "cell_type": "code",
   "execution_count": 8,
   "id": "c1a896e8",
   "metadata": {},
   "outputs": [
    {
     "data": {
      "text/plain": [
       "count              249\n",
       "unique             249\n",
       "top       Buenos Aires\n",
       "freq                 1\n",
       "Name: City / Urban area, dtype: object"
      ]
     },
     "execution_count": 8,
     "metadata": {},
     "output_type": "execute_result"
    }
   ],
   "source": [
    "trip_df['City / Urban area'].describe()"
   ]
  },
  {
   "cell_type": "code",
   "execution_count": 12,
   "id": "8e1c3bc7",
   "metadata": {},
   "outputs": [
    {
     "data": {
      "text/plain": [
       "Index(['City / Urban area', 'Country', 'Population', 'Land area (in sqKm)'], dtype='object')"
      ]
     },
     "execution_count": 12,
     "metadata": {},
     "output_type": "execute_result"
    }
   ],
   "source": [
    "trip_df.columns"
   ]
  },
  {
   "cell_type": "code",
   "execution_count": 21,
   "id": "75e94b29",
   "metadata": {},
   "outputs": [
    {
     "name": "stdout",
     "output_type": "stream",
     "text": [
      "<class 'pandas.core.frame.DataFrame'>\n",
      "Int64Index: 19 entries, 32 to 129\n",
      "Data columns (total 5 columns):\n",
      " #   Column               Non-Null Count  Dtype  \n",
      "---  ------               --------------  -----  \n",
      " 0   City / Urban area    19 non-null     object \n",
      " 1   Country              19 non-null     object \n",
      " 2   Population           19 non-null     int64  \n",
      " 3   Land area (in sqKm)  19 non-null     int64  \n",
      " 4   Mil                  19 non-null     float64\n",
      "dtypes: float64(1), int64(2), object(2)\n",
      "memory usage: 912.0+ bytes\n"
     ]
    }
   ],
   "source": [
    "trip_df[(trip_df['Population']) / (trip_df['Land area (in sqKm)']) > 10000].info()"
   ]
  },
  {
   "cell_type": "code",
   "execution_count": 19,
   "id": "a79aa9bb",
   "metadata": {},
   "outputs": [],
   "source": [
    "trip_df['Mil'] = (trip_df['Population']) / (trip_df['Land area (in sqKm)'])"
   ]
  },
  {
   "cell_type": "code",
   "execution_count": 22,
   "id": "b17145ff",
   "metadata": {
    "scrolled": true
   },
   "outputs": [
    {
     "data": {
      "text/html": [
       "<div>\n",
       "<style scoped>\n",
       "    .dataframe tbody tr th:only-of-type {\n",
       "        vertical-align: middle;\n",
       "    }\n",
       "\n",
       "    .dataframe tbody tr th {\n",
       "        vertical-align: top;\n",
       "    }\n",
       "\n",
       "    .dataframe thead th {\n",
       "        text-align: right;\n",
       "    }\n",
       "</style>\n",
       "<table border=\"1\" class=\"dataframe\">\n",
       "  <thead>\n",
       "    <tr style=\"text-align: right;\">\n",
       "      <th></th>\n",
       "      <th>City / Urban area</th>\n",
       "      <th>Country</th>\n",
       "      <th>Population</th>\n",
       "      <th>Land area (in sqKm)</th>\n",
       "      <th>Mil</th>\n",
       "    </tr>\n",
       "  </thead>\n",
       "  <tbody>\n",
       "    <tr>\n",
       "      <th>75</th>\n",
       "      <td>Mumbai</td>\n",
       "      <td>India</td>\n",
       "      <td>14350000</td>\n",
       "      <td>484</td>\n",
       "      <td>29648.760331</td>\n",
       "    </tr>\n",
       "    <tr>\n",
       "      <th>74</th>\n",
       "      <td>Kolkata</td>\n",
       "      <td>India</td>\n",
       "      <td>12700000</td>\n",
       "      <td>531</td>\n",
       "      <td>23917.137476</td>\n",
       "    </tr>\n",
       "    <tr>\n",
       "      <th>101</th>\n",
       "      <td>Karachi</td>\n",
       "      <td>Pakistan</td>\n",
       "      <td>9800000</td>\n",
       "      <td>518</td>\n",
       "      <td>18918.918919</td>\n",
       "    </tr>\n",
       "    <tr>\n",
       "      <th>99</th>\n",
       "      <td>Lagos</td>\n",
       "      <td>Nigeria</td>\n",
       "      <td>13400000</td>\n",
       "      <td>738</td>\n",
       "      <td>18157.181572</td>\n",
       "    </tr>\n",
       "    <tr>\n",
       "      <th>34</th>\n",
       "      <td>Shenzhen</td>\n",
       "      <td>China</td>\n",
       "      <td>8000000</td>\n",
       "      <td>466</td>\n",
       "      <td>17167.381974</td>\n",
       "    </tr>\n",
       "    <tr>\n",
       "      <th>...</th>\n",
       "      <td>...</td>\n",
       "      <td>...</td>\n",
       "      <td>...</td>\n",
       "      <td>...</td>\n",
       "      <td>...</td>\n",
       "    </tr>\n",
       "    <tr>\n",
       "      <th>195</th>\n",
       "      <td>Chattanooga</td>\n",
       "      <td>USA</td>\n",
       "      <td>344000</td>\n",
       "      <td>751</td>\n",
       "      <td>458.055925</td>\n",
       "    </tr>\n",
       "    <tr>\n",
       "      <th>224</th>\n",
       "      <td>Asheville</td>\n",
       "      <td>USA</td>\n",
       "      <td>222000</td>\n",
       "      <td>536</td>\n",
       "      <td>414.179104</td>\n",
       "    </tr>\n",
       "    <tr>\n",
       "      <th>57</th>\n",
       "      <td>Pau</td>\n",
       "      <td>France</td>\n",
       "      <td>181000</td>\n",
       "      <td>450</td>\n",
       "      <td>402.222222</td>\n",
       "    </tr>\n",
       "    <tr>\n",
       "      <th>221</th>\n",
       "      <td>Hickory</td>\n",
       "      <td>USA</td>\n",
       "      <td>188000</td>\n",
       "      <td>546</td>\n",
       "      <td>344.322344</td>\n",
       "    </tr>\n",
       "    <tr>\n",
       "      <th>197</th>\n",
       "      <td>Barnstable Town</td>\n",
       "      <td>USA</td>\n",
       "      <td>244000</td>\n",
       "      <td>741</td>\n",
       "      <td>329.284750</td>\n",
       "    </tr>\n",
       "  </tbody>\n",
       "</table>\n",
       "<p>249 rows × 5 columns</p>\n",
       "</div>"
      ],
      "text/plain": [
       "    City / Urban area   Country  Population  Land area (in sqKm)           Mil\n",
       "75             Mumbai     India    14350000                  484  29648.760331\n",
       "74            Kolkata     India    12700000                  531  23917.137476\n",
       "101           Karachi  Pakistan     9800000                  518  18918.918919\n",
       "99              Lagos   Nigeria    13400000                  738  18157.181572\n",
       "34           Shenzhen     China     8000000                  466  17167.381974\n",
       "..                ...       ...         ...                  ...           ...\n",
       "195       Chattanooga       USA      344000                  751    458.055925\n",
       "224         Asheville       USA      222000                  536    414.179104\n",
       "57                Pau    France      181000                  450    402.222222\n",
       "221           Hickory       USA      188000                  546    344.322344\n",
       "197   Barnstable Town       USA      244000                  741    329.284750\n",
       "\n",
       "[249 rows x 5 columns]"
      ]
     },
     "execution_count": 22,
     "metadata": {},
     "output_type": "execute_result"
    }
   ],
   "source": [
    "trip_df.sort_values(by='Mil', ascending=False)"
   ]
  },
  {
   "cell_type": "code",
   "execution_count": 30,
   "id": "f82afba3",
   "metadata": {},
   "outputs": [
    {
     "data": {
      "text/plain": [
       "USA             105\n",
       "France           15\n",
       "Brazil           10\n",
       "Canada            9\n",
       "Germany           8\n",
       "Australia         6\n",
       "China             6\n",
       "India             6\n",
       "South Africa      6\n",
       "UK                5\n",
       "Japan             5\n",
       "Italy             4\n",
       "Name: Country, dtype: int64"
      ]
     },
     "execution_count": 30,
     "metadata": {},
     "output_type": "execute_result"
    }
   ],
   "source": [
    "trip_df['Country'].value_counts()[trip_df['Country'].value_counts() >= 4]"
   ]
  }
 ],
 "metadata": {
  "kernelspec": {
   "display_name": "Python 3 (ipykernel)",
   "language": "python",
   "name": "python3"
  },
  "language_info": {
   "codemirror_mode": {
    "name": "ipython",
    "version": 3
   },
   "file_extension": ".py",
   "mimetype": "text/x-python",
   "name": "python",
   "nbconvert_exporter": "python",
   "pygments_lexer": "ipython3",
   "version": "3.9.7"
  }
 },
 "nbformat": 4,
 "nbformat_minor": 5
}
