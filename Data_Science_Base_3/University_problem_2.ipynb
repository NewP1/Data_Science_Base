{
 "cells": [
  {
   "cell_type": "code",
   "execution_count": 1,
   "id": "302a3ffb",
   "metadata": {},
   "outputs": [],
   "source": [
    "import pandas as pd"
   ]
  },
  {
   "cell_type": "code",
   "execution_count": 2,
   "id": "d13cef89",
   "metadata": {},
   "outputs": [],
   "source": [
    "df = pd.read_csv('data/enrolment_3.csv')"
   ]
  },
  {
   "cell_type": "code",
   "execution_count": 7,
   "id": "286a0647",
   "metadata": {},
   "outputs": [],
   "source": [
    "allowed = (df['status']=='allowed')\n",
    "course = df.loc[allowed, 'course name'].value_counts()"
   ]
  },
  {
   "cell_type": "markdown",
   "id": "929e4fa8",
   "metadata": {},
   "source": [
    "### 👇 각 조건에 해당하는 리스트를 정렬하여 저장함."
   ]
  },
  {
   "cell_type": "code",
   "execution_count": 4,
   "id": "39b03dd8",
   "metadata": {},
   "outputs": [],
   "source": [
    "Auditorium = sorted(list(course[course >= 80].index))\n",
    "Large_room = sorted(list(course[(course < 80) & (course >= 40)].index))\n",
    "Medium_room = sorted(list(course[(course < 40) & (course >= 15)].index))\n",
    "Small_room = sorted(list(course[(course < 15) & (course >= 5)].index))"
   ]
  },
  {
   "cell_type": "code",
   "execution_count": 5,
   "id": "c3f9d079",
   "metadata": {},
   "outputs": [],
   "source": [
    "index = 1\n",
    "for course in Auditorium:\n",
    "    df.loc[(df['course name'] == course) & allowed, 'room assignment'] = \"Auditorium-{}\".format(index)\n",
    "    index += 1\n",
    " \n",
    "index = 1\n",
    "for course in Large_room:\n",
    "    df.loc[(df['course name'] == course) & allowed, 'room assignment'] = \"Large-{}\".format(index)\n",
    "    index += 1\n",
    "\n",
    "index = 1\n",
    "for course in Medium_room:\n",
    "    df.loc[(df['course name'] == course) & allowed, 'room assignment'] = \"Medium-{}\".format(index)\n",
    "    index += 1\n",
    "    \n",
    "index = 1\n",
    "for course in Small_room:\n",
    "    df.loc[(df['course name'] == course) & allowed, 'room assignment'] = \"Small-{}\".format(index)\n",
    "    index += 1"
   ]
  },
  {
   "cell_type": "code",
   "execution_count": 6,
   "id": "be1e74b8",
   "metadata": {},
   "outputs": [],
   "source": [
    "df.loc[df[\"status\"] == \"not allowed\", \"room assignment\"] = \"not assigned\"\n",
    "df.rename(columns = {'room assignment' : 'room number'}, inplace = True)"
   ]
  },
  {
   "cell_type": "code",
   "execution_count": null,
   "id": "5fadc19c",
   "metadata": {},
   "outputs": [],
   "source": []
  }
 ],
 "metadata": {
  "kernelspec": {
   "display_name": "Python 3 (ipykernel)",
   "language": "python",
   "name": "python3"
  },
  "language_info": {
   "codemirror_mode": {
    "name": "ipython",
    "version": 3
   },
   "file_extension": ".py",
   "mimetype": "text/x-python",
   "name": "python",
   "nbconvert_exporter": "python",
   "pygments_lexer": "ipython3",
   "version": "3.9.7"
  }
 },
 "nbformat": 4,
 "nbformat_minor": 5
}
