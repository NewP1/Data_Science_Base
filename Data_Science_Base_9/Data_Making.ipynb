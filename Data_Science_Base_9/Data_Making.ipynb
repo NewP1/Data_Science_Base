{
 "cells": [
  {
   "cell_type": "markdown",
   "id": "61570a41",
   "metadata": {},
   "source": [
    "# 데이터 만들기의 중요성\n",
    "\n",
    " * 데이터 다운로드 받기\n",
    " * 센서 사용하기\n",
    "     - 아두이노, 라즈베리 파이\n",
    " * 웹에서 모으기\n",
    "     - 가장 빠르게 데이터가 모이는 곳\n",
    "     - 인터넷에 공개된 데이터도 많다.\n",
    "     \n",
    "## 웹에서 모으기(데이터 수집)\n",
    "\n",
    "### - 웹 스크레이핑(Web Scraping) \n",
    "* 하나의 특정 웹페이지에서 원하는 정보를 받아오는 것\n",
    "\n",
    "### -  웹 크롤링(Web Crawling)\n",
    "* 여려 웹페이지를 수집하게 하는 것(웹 크롤러)\n"
   ]
  },
  {
   "cell_type": "code",
   "execution_count": null,
   "id": "3335e939",
   "metadata": {},
   "outputs": [],
   "source": []
  },
  {
   "cell_type": "code",
   "execution_count": null,
   "id": "578c8b2e",
   "metadata": {},
   "outputs": [],
   "source": []
  }
 ],
 "metadata": {
  "kernelspec": {
   "display_name": "Python 3 (ipykernel)",
   "language": "python",
   "name": "python3"
  },
  "language_info": {
   "codemirror_mode": {
    "name": "ipython",
    "version": 3
   },
   "file_extension": ".py",
   "mimetype": "text/x-python",
   "name": "python",
   "nbconvert_exporter": "python",
   "pygments_lexer": "ipython3",
   "version": "3.9.7"
  }
 },
 "nbformat": 4,
 "nbformat_minor": 5
}
