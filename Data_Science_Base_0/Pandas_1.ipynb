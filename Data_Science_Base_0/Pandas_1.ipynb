{
 "cells": [
  {
   "cell_type": "markdown",
   "id": "3a551385",
   "metadata": {},
   "source": [
    "# From list of lists, array of arrays, list of series\n",
    "\n",
    "### 2차원 리스트나 2차원 numpy array로 DataFrame을 만들 수 있다. 심지어 pandas Series를 담고 있는 리스트로도 DataFrame을 만들 수 있다."
   ]
  },
  {
   "cell_type": "code",
   "execution_count": 9,
   "id": "4873b806",
   "metadata": {},
   "outputs": [
    {
     "name": "stdout",
     "output_type": "stream",
     "text": [
      "          0   1   2\n",
      "0  dongwook  50  86\n",
      "1    sineui  89  31\n",
      "2   ikjoong  68  91\n",
      "3   yoonsoo  88  75\n"
     ]
    }
   ],
   "source": [
    "import numpy as np\n",
    "import pandas as pd\n",
    "\n",
    "two_dimensional_list = [['dongwook', 50, 86], ['sineui', 89, 31], ['ikjoong', 68, 91], ['yoonsoo', 88, 75]]\n",
    "two_dimensional_array = np.array(two_dimensional_list)\n",
    "list_of_series = [\n",
    "    pd.Series(['dongwook', 50, 86]),\n",
    "    pd.Series(['sineui', 89, 31]),\n",
    "    pd.Series(['ikjoong', 68, 91]),\n",
    "    pd.Series(['yoonsoo', 88, 75])\n",
    "]\n",
    "\n",
    "# 아래 셋은 모두 동일하다.\n",
    "df1 = pd.DataFrame(two_dimensional_list)\n",
    "df2 = pd.DataFrame(two_dimensional_list)\n",
    "df3 = pd.DataFrame(list_of_series)\n",
    "\n",
    "print(df3)"
   ]
  },
  {
   "cell_type": "markdown",
   "id": "52726366",
   "metadata": {},
   "source": [
    "## From dict of lists, dict of arrays, dict of series\n",
    "\n",
    "**파이썬 사전 = dict(dictionary)으로 DataFrame 가능**\n",
    "\n",
    "사전의 key로는 column 이름을 쓰고, 그 column에 해당하는 리스트, numpy array, 혹은 pandas Series를 사전의 value로 넣어주면 된다."
   ]
  },
  {
   "cell_type": "code",
   "execution_count": 16,
   "id": "83439812",
   "metadata": {},
   "outputs": [
    {
     "name": "stdout",
     "output_type": "stream",
     "text": [
      "       name  englisht_scores  math_scores\n",
      "0  dongwook               50           86\n",
      "1    sineui               89           31\n",
      "2   ikjoong               68           91\n",
      "3   yoonsoo               88           75\n"
     ]
    }
   ],
   "source": [
    "names = ['dongwook', 'sineui', 'ikjoong', 'yoonsoo']\n",
    "english_scores = [50, 89, 68, 88]\n",
    "math_scores = [86, 31, 91, 75]\n",
    "\n",
    "dict1 = {\n",
    "    'name' : names,\n",
    "    'english_scores' : english_scores,\n",
    "    'math_scores' : math_scores\n",
    "}\n",
    "\n",
    "dict2 = {\n",
    "    'name' : np.array(names),\n",
    "    'english_scores' : np.array(english_scores),\n",
    "    'math_scores' : np.array(math_scores)\n",
    "}\n",
    "\n",
    "dict3 = {\n",
    "    'name' : pd.Series(names),\n",
    "    'englisht_scores' : pd.Series(english_scores),\n",
    "    'math_scores' : pd.Series(math_scores)\n",
    "}\n",
    "\n",
    "df_1 = pd.DataFrame(dict1)\n",
    "df_2 = pd.DataFrame(dict2)\n",
    "df_3 = pd.DataFrame(dict3)\n",
    "\n",
    "print(df_3)"
   ]
  },
  {
   "cell_type": "markdown",
   "id": "33c8f1ad",
   "metadata": {},
   "source": [
    "# From list of dicts\n",
    "\n",
    "**리스트가 담긴 사전이 아니라, 사전이 담긴 리스트로도 DataFrame을 만들 수 있다.**"
   ]
  },
  {
   "cell_type": "code",
   "execution_count": 17,
   "id": "f6d9a416",
   "metadata": {},
   "outputs": [
    {
     "name": "stdout",
     "output_type": "stream",
     "text": [
      "       name  english_scores  math_scores\n",
      "0  dongwook              50           86\n"
     ]
    }
   ],
   "source": [
    "my_list = [\n",
    "    {'name' : 'dongwook', 'english_scores' : 50, 'math_scores' : 86}\n",
    "]\n",
    "\n",
    "df = pd.DataFrame(my_list)\n",
    "print(df)"
   ]
  }
 ],
 "metadata": {
  "kernelspec": {
   "display_name": "Python 3 (ipykernel)",
   "language": "python",
   "name": "python3"
  },
  "language_info": {
   "codemirror_mode": {
    "name": "ipython",
    "version": 3
   },
   "file_extension": ".py",
   "mimetype": "text/x-python",
   "name": "python",
   "nbconvert_exporter": "python",
   "pygments_lexer": "ipython3",
   "version": "3.9.7"
  }
 },
 "nbformat": 4,
 "nbformat_minor": 5
}
