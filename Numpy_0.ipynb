{
 "cells": [
  {
   "cell_type": "code",
   "execution_count": 1,
   "id": "088a7662",
   "metadata": {},
   "outputs": [],
   "source": [
    "import numpy"
   ]
  },
  {
   "cell_type": "code",
   "execution_count": 2,
   "id": "ede53714",
   "metadata": {},
   "outputs": [],
   "source": [
    "array1 = numpy.array([2, 3, 5, 7, 11, 13, 17, 19, 23, 29, 31])"
   ]
  },
  {
   "cell_type": "code",
   "execution_count": 3,
   "id": "4ac91666",
   "metadata": {},
   "outputs": [
    {
     "data": {
      "text/plain": [
       "array([ 2,  3,  5,  7, 11, 13, 17, 19, 23, 29, 31])"
      ]
     },
     "execution_count": 3,
     "metadata": {},
     "output_type": "execute_result"
    }
   ],
   "source": [
    "array1"
   ]
  },
  {
   "cell_type": "code",
   "execution_count": 15,
   "id": "5dc64277",
   "metadata": {},
   "outputs": [
    {
     "data": {
      "text/plain": [
       "numpy.ndarray"
      ]
     },
     "execution_count": 15,
     "metadata": {},
     "output_type": "execute_result"
    }
   ],
   "source": [
    "type(array1)"
   ]
  },
  {
   "cell_type": "markdown",
   "id": "d31f9985",
   "metadata": {},
   "source": [
    "**ndarray = n차원 배열** (11, ) 이렇게 나온 이유"
   ]
  },
  {
   "cell_type": "code",
   "execution_count": 5,
   "id": "53e41b82",
   "metadata": {
    "scrolled": true
   },
   "outputs": [
    {
     "data": {
      "text/plain": [
       "(11,)"
      ]
     },
     "execution_count": 5,
     "metadata": {},
     "output_type": "execute_result"
    }
   ],
   "source": [
    "array1.shape"
   ]
  },
  {
   "cell_type": "code",
   "execution_count": 9,
   "id": "dc72ec72",
   "metadata": {},
   "outputs": [],
   "source": [
    "array2 = numpy.array([[1, 2, 3, 4],[5, 6, 7, 8],[9, 10, 11, 12]])"
   ]
  },
  {
   "cell_type": "code",
   "execution_count": 11,
   "id": "db58eb62",
   "metadata": {},
   "outputs": [
    {
     "data": {
      "text/plain": [
       "numpy.ndarray"
      ]
     },
     "execution_count": 11,
     "metadata": {},
     "output_type": "execute_result"
    }
   ],
   "source": [
    "type(array2)"
   ]
  },
  {
   "cell_type": "code",
   "execution_count": 13,
   "id": "601a1420",
   "metadata": {},
   "outputs": [
    {
     "data": {
      "text/plain": [
       "array([[ 1,  2,  3,  4],\n",
       "       [ 5,  6,  7,  8],\n",
       "       [ 9, 10, 11, 12]])"
      ]
     },
     "execution_count": 13,
     "metadata": {},
     "output_type": "execute_result"
    }
   ],
   "source": [
    "array2"
   ]
  },
  {
   "cell_type": "code",
   "execution_count": 16,
   "id": "1e58f9a3",
   "metadata": {},
   "outputs": [
    {
     "data": {
      "text/plain": [
       "(3, 4)"
      ]
     },
     "execution_count": 16,
     "metadata": {},
     "output_type": "execute_result"
    }
   ],
   "source": [
    "array2.shape"
   ]
  },
  {
   "cell_type": "code",
   "execution_count": 18,
   "id": "09f8b50f",
   "metadata": {},
   "outputs": [
    {
     "data": {
      "text/plain": [
       "11"
      ]
     },
     "execution_count": 18,
     "metadata": {},
     "output_type": "execute_result"
    }
   ],
   "source": [
    "array1.size"
   ]
  },
  {
   "cell_type": "code",
   "execution_count": 20,
   "id": "bcb0a6b4",
   "metadata": {},
   "outputs": [
    {
     "data": {
      "text/plain": [
       "12"
      ]
     },
     "execution_count": 20,
     "metadata": {},
     "output_type": "execute_result"
    }
   ],
   "source": [
    "array2.size"
   ]
  },
  {
   "cell_type": "markdown",
   "id": "c6059e70",
   "metadata": {},
   "source": [
    "☝  __행과 열을 곱한게 행렬의 사이즈가 된다.__"
   ]
  },
  {
   "cell_type": "code",
   "execution_count": 23,
   "id": "f60eff26",
   "metadata": {},
   "outputs": [],
   "source": [
    "array3 = numpy.full(6, 7)"
   ]
  },
  {
   "cell_type": "code",
   "execution_count": 26,
   "id": "3a175b80",
   "metadata": {},
   "outputs": [
    {
     "name": "stdout",
     "output_type": "stream",
     "text": [
      "[7 7 7 7 7 7]\n"
     ]
    }
   ],
   "source": [
    "print(array3)"
   ]
  },
  {
   "cell_type": "markdown",
   "id": "6baef663",
   "metadata": {},
   "source": [
    "### 모든 값이 0인 numpy array 생성"
   ]
  },
  {
   "cell_type": "code",
   "execution_count": 28,
   "id": "f466ad53",
   "metadata": {},
   "outputs": [
    {
     "name": "stdout",
     "output_type": "stream",
     "text": [
      "[0 0 0 0 0 0]\n",
      "[0 0 0 0 0 0]\n"
     ]
    }
   ],
   "source": [
    "arr1 = numpy.full(6, 0)\n",
    "arr2 = numpy.zeros(6, dtype=int)\n",
    "\n",
    "print(arr1)\n",
    "print(arr2)"
   ]
  },
  {
   "cell_type": "markdown",
   "id": "5fdc93df",
   "metadata": {},
   "source": [
    "### 모든 값이 1인 numpy array 생성"
   ]
  },
  {
   "cell_type": "code",
   "execution_count": 31,
   "id": "d896d3be",
   "metadata": {},
   "outputs": [
    {
     "name": "stdout",
     "output_type": "stream",
     "text": [
      "[1 1 1 1 1 1]\n",
      "[1 1 1 1 1 1]\n"
     ]
    }
   ],
   "source": [
    "arr3 = numpy.full(6, 1)\n",
    "arr4 = numpy.ones(6, dtype=int)\n",
    "\n",
    "print(arr3)\n",
    "print(arr4)"
   ]
  },
  {
   "cell_type": "markdown",
   "id": "b345525b",
   "metadata": {},
   "source": [
    "## 랜덤한 값들로 생성\n",
    "\n",
    "### numpy의 random 모듈의 random 함수를 사용하는 절차\n",
    "__numpy.random.random__"
   ]
  },
  {
   "cell_type": "code",
   "execution_count": 33,
   "id": "a0e8ec5c",
   "metadata": {},
   "outputs": [
    {
     "name": "stdout",
     "output_type": "stream",
     "text": [
      "[0.89682556 0.99376694 0.0929521  0.08102704 0.20579846 0.66130563]\n",
      "[0.58962963 0.50120545 0.62269732 0.00786178 0.16877883 0.24044907]\n"
     ]
    }
   ],
   "source": [
    "a1 = numpy.random.random(6)\n",
    "a2 = numpy.random.random(6)\n",
    "\n",
    "print(a1)\n",
    "print(a2)"
   ]
  },
  {
   "cell_type": "markdown",
   "id": "fb7a6c6a",
   "metadata": {},
   "source": [
    "## 연속된 값드리 담긴 numpy array 생성\n",
    "\n",
    "__파이썬의 range 함수와 비슷하게 사용(파라미터가 1개, 2개, 3개)__\n",
    "\n",
    "### 파라미터 1개"
   ]
  },
  {
   "cell_type": "code",
   "execution_count": 35,
   "id": "5bccb132",
   "metadata": {},
   "outputs": [
    {
     "name": "stdout",
     "output_type": "stream",
     "text": [
      "[0 1 2 3 4 5]\n"
     ]
    }
   ],
   "source": [
    "a = numpy.arange(6)\n",
    "print(a)"
   ]
  },
  {
   "cell_type": "markdown",
   "id": "aa76baba",
   "metadata": {},
   "source": [
    "### 파라미터 2개"
   ]
  },
  {
   "cell_type": "code",
   "execution_count": 38,
   "id": "755b6078",
   "metadata": {},
   "outputs": [
    {
     "name": "stdout",
     "output_type": "stream",
     "text": [
      "[1 2 3 4 5 6]\n"
     ]
    }
   ],
   "source": [
    "b = numpy.arange(1, 7)\n",
    "print(b)"
   ]
  },
  {
   "cell_type": "markdown",
   "id": "f3cc0e68",
   "metadata": {},
   "source": [
    "### 파라미터 3개"
   ]
  },
  {
   "cell_type": "code",
   "execution_count": 39,
   "id": "16e51c22",
   "metadata": {},
   "outputs": [
    {
     "name": "stdout",
     "output_type": "stream",
     "text": [
      "[2 5 8]\n"
     ]
    }
   ],
   "source": [
    "c = numpy.arange(2, 9, 3)\n",
    "print(c)"
   ]
  }
 ],
 "metadata": {
  "kernelspec": {
   "display_name": "Python 3 (ipykernel)",
   "language": "python",
   "name": "python3"
  },
  "language_info": {
   "codemirror_mode": {
    "name": "ipython",
    "version": 3
   },
   "file_extension": ".py",
   "mimetype": "text/x-python",
   "name": "python",
   "nbconvert_exporter": "python",
   "pygments_lexer": "ipython3",
   "version": "3.9.7"
  }
 },
 "nbformat": 4,
 "nbformat_minor": 5
}
