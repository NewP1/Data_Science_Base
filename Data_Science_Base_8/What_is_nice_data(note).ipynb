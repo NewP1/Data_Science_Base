{
 "cells": [
  {
   "cell_type": "markdown",
   "id": "48975831",
   "metadata": {},
   "source": [
    "## 좋은 데이터가 좋은 결과를 가져온다.\n",
    "\n",
    "### => 데이터 클리닝 과정을 배운다.\n",
    "\n",
    "* 좋은 데이터의 첫 번째 기준 __완결성__ 이다.  \n",
    "  필수적인 데이터는 모두 기록되어 있어야 함.  \n",
    "  필수 항목이 없다면 정확한 데이터 분석을 할 수 없다.\n",
    "        * 데이터의 완결성은 어떻게 알 수 있나??\n",
    "          결측값을 확인. (NaN)\n",
    " \n",
    "* 좋은 데이터의 두 번째 기준은 __유일성__ 이다.  \n",
    "  동일한 데이터가 _불필요하게_ 중복되어 있으면 안됨.  \n",
    "  중복되어 있을 경우 수정을 했을 때 수정이 안된 항목이 생길 수 있으므로 X.\n",
    "        * 데이터의 유일성 유지 필요. \n",
    "          EX) 이메일 인증하기, 주민등록번호 본인 확인, 휴대폰 번호 본인 확인\n",
    "\n",
    "* 좋은 데이터의 세 번째 기준은 __통일성__ 이다.  \n",
    "  데이터가 동일한 형식으로 저장돼 있어야 함.  \n",
    "  - 형식이란? 데이터 타입, 단위, 포맷 등  \n",
    "  \n",
    "  \n",
    "* 좋은 데이터의 네 번째 기준은 __정확성__ 이다.  \n",
    "  데이터는 정확해야 한다. 분석에 혼란을 가져올 수 있다.  \n",
    "  __이상점__ 이란? 다른 값들과 심하게 동떨어져 있는 값.  "
   ]
  },
  {
   "cell_type": "markdown",
   "id": "abb47a93",
   "metadata": {},
   "source": []
  }
 ],
 "metadata": {
  "kernelspec": {
   "display_name": "Python 3 (ipykernel)",
   "language": "python",
   "name": "python3"
  },
  "language_info": {
   "codemirror_mode": {
    "name": "ipython",
    "version": 3
   },
   "file_extension": ".py",
   "mimetype": "text/x-python",
   "name": "python",
   "nbconvert_exporter": "python",
   "pygments_lexer": "ipython3",
   "version": "3.9.7"
  }
 },
 "nbformat": 4,
 "nbformat_minor": 5
}
